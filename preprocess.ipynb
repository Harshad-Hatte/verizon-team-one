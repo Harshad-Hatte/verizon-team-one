{
 "cells": [
  {
   "cell_type": "code",
   "execution_count": 1,
   "id": "0c3f9804-52dd-409d-ad90-9cb62791e971",
   "metadata": {},
   "outputs": [],
   "source": [
    "from pyspark.sql import SparkSession\n",
    "from pyspark.sql.functions import from_json, col, explode\n",
    "from pyspark.sql.types import StructType, StructField, StringType, LongType, ArrayType"
   ]
  },
  {
   "cell_type": "code",
   "execution_count": 2,
   "id": "0278e011-4966-477a-af2a-7440c4bc0cac",
   "metadata": {},
   "outputs": [
    {
     "name": "stderr",
     "output_type": "stream",
     "text": [
      "Setting default log level to \"WARN\".\n",
      "To adjust logging level use sc.setLogLevel(newLevel). For SparkR, use setLogLevel(newLevel).\n",
      "25/03/07 15:25:03 WARN NativeCodeLoader: Unable to load native-hadoop library for your platform... using builtin-java classes where applicable\n"
     ]
    }
   ],
   "source": [
    "spark = SparkSession.builder.appName(\"JSON to Parquet\").getOrCreate()\n",
    "df = spark.read.json(\"../data/xaa\", multiLine=True)"
   ]
  },
  {
   "cell_type": "code",
   "execution_count": 71,
   "id": "ce05a402-dffc-4d70-9ab3-63e21c92257a",
   "metadata": {},
   "outputs": [],
   "source": [
    "# df.write.parquet(\"data.parquet\")"
   ]
  },
  {
   "cell_type": "code",
   "execution_count": 3,
   "id": "352a59e5-51c5-4077-b5d0-4d6cfa8e3c7f",
   "metadata": {},
   "outputs": [
    {
     "data": {
      "text/plain": [
       "['@timestamp',\n",
       " '@version',\n",
       " 'agent',\n",
       " 'datacenter',\n",
       " 'ecs',\n",
       " 'event.type',\n",
       " 'fields',\n",
       " 'host',\n",
       " 'input',\n",
       " 'log',\n",
       " 'log.logger',\n",
       " 'message',\n",
       " 'process.pid',\n",
       " 'tags',\n",
       " 'timestamp']"
      ]
     },
     "execution_count": 3,
     "metadata": {},
     "output_type": "execute_result"
    }
   ],
   "source": [
    "df.columns"
   ]
  },
  {
   "cell_type": "code",
   "execution_count": 4,
   "id": "de2da461-5cd1-46a0-8946-c6c8965eb92f",
   "metadata": {},
   "outputs": [
    {
     "name": "stdout",
     "output_type": "stream",
     "text": [
      "<class 'pyspark.sql.dataframe.DataFrame'>\n"
     ]
    }
   ],
   "source": [
    "print(type(df))"
   ]
  },
  {
   "cell_type": "code",
   "execution_count": 5,
   "id": "dc097586-2513-44de-bfc3-cbe25b221256",
   "metadata": {},
   "outputs": [
    {
     "name": "stdout",
     "output_type": "stream",
     "text": [
      "+------------------------+--------+---------------------------------------------------------------------------------------------------------------------------------------+--------------+-------+----------+---------------------+-----------------------------------------+-----+--------------------------------------------------------------------+---------------------------------------------------------------+--------------------------------------------------------------------------------------------------------------------------------------------------------------------------------------------------+-----------+--------+-----------------------+\n",
      "|@timestamp              |@version|agent                                                                                                                                  |datacenter    |ecs    |event.type|fields               |host                                     |input|log                                                                 |log.logger                                                     |message                                                                                                                                                                                           |process.pid|tags    |timestamp              |\n",
      "+------------------------+--------+---------------------------------------------------------------------------------------------------------------------------------------+--------------+-------+----------+---------------------+-----------------------------------------+-----+--------------------------------------------------------------------+---------------------------------------------------------------+--------------------------------------------------------------------------------------------------------------------------------------------------------------------------------------------------+-----------+--------+-----------------------+\n",
      "|2025-02-27T08:13:18.897Z|1       |{659873d3-3c20-4f2c-837d-0a1ff90964c5, 678fe5e2-7e69-4c93-bb69-c577f80d6f51, computedpdkcl-1.vim4-7.bbg-1.vzwops.com, filebeat, 8.11.3}|s42-branchburg|{8.0.0}|info      |{neutron, production}|{computedpdkcl-1.vim4-7.bbg-1.vzwops.com}|{log}|{{/var/log/containers/neutron/openvswitch-agent.log}, info, 7216250}|neutron.plugins.ml2.drivers.openvswitch.agent.ovs_neutron_agent|[req-f9fe7deb-2d8c-4799-b362-eb1b86ed8c65 - - - - -] Agent rpc_loop - iteration:345687 completed. Processed ports statistics: {'regular': {'added': 0, 'updated': 0, 'removed': 0}}. Elapsed:0.002|10547      |[server]|2025-02-27 08:13:18.136|\n",
      "+------------------------+--------+---------------------------------------------------------------------------------------------------------------------------------------+--------------+-------+----------+---------------------+-----------------------------------------+-----+--------------------------------------------------------------------+---------------------------------------------------------------+--------------------------------------------------------------------------------------------------------------------------------------------------------------------------------------------------+-----------+--------+-----------------------+\n",
      "\n"
     ]
    }
   ],
   "source": [
    "df.show(truncate=False)"
   ]
  },
  {
   "cell_type": "code",
   "execution_count": 6,
   "id": "6f0c3fc2-9a94-42bb-8614-bf2dc19c6c57",
   "metadata": {},
   "outputs": [
    {
     "data": {
      "text/html": [
       "<div>\n",
       "<style scoped>\n",
       "    .dataframe tbody tr th:only-of-type {\n",
       "        vertical-align: middle;\n",
       "    }\n",
       "\n",
       "    .dataframe tbody tr th {\n",
       "        vertical-align: top;\n",
       "    }\n",
       "\n",
       "    .dataframe thead th {\n",
       "        text-align: right;\n",
       "    }\n",
       "</style>\n",
       "<table border=\"1\" class=\"dataframe\">\n",
       "  <thead>\n",
       "    <tr style=\"text-align: right;\">\n",
       "      <th></th>\n",
       "      <th>@timestamp</th>\n",
       "      <th>@version</th>\n",
       "      <th>agent</th>\n",
       "      <th>datacenter</th>\n",
       "      <th>ecs</th>\n",
       "      <th>event.type</th>\n",
       "      <th>fields</th>\n",
       "      <th>host</th>\n",
       "      <th>input</th>\n",
       "      <th>log</th>\n",
       "      <th>log.logger</th>\n",
       "      <th>message</th>\n",
       "      <th>process.pid</th>\n",
       "      <th>tags</th>\n",
       "      <th>timestamp</th>\n",
       "    </tr>\n",
       "  </thead>\n",
       "  <tbody>\n",
       "    <tr>\n",
       "      <th>0</th>\n",
       "      <td>2025-02-27T08:13:18.897Z</td>\n",
       "      <td>1</td>\n",
       "      <td>(659873d3-3c20-4f2c-837d-0a1ff90964c5, 678fe5e...</td>\n",
       "      <td>s42-branchburg</td>\n",
       "      <td>(8.0.0,)</td>\n",
       "      <td>info</td>\n",
       "      <td>(neutron, production)</td>\n",
       "      <td>(computedpdkcl-1.vim4-7.bbg-1.vzwops.com,)</td>\n",
       "      <td>(log,)</td>\n",
       "      <td>((/var/log/containers/neutron/openvswitch-agen...</td>\n",
       "      <td>neutron.plugins.ml2.drivers.openvswitch.agent....</td>\n",
       "      <td>[req-f9fe7deb-2d8c-4799-b362-eb1b86ed8c65 - - ...</td>\n",
       "      <td>10547</td>\n",
       "      <td>[server]</td>\n",
       "      <td>2025-02-27 08:13:18.136</td>\n",
       "    </tr>\n",
       "  </tbody>\n",
       "</table>\n",
       "</div>"
      ],
      "text/plain": [
       "                 @timestamp @version  \\\n",
       "0  2025-02-27T08:13:18.897Z        1   \n",
       "\n",
       "                                               agent      datacenter  \\\n",
       "0  (659873d3-3c20-4f2c-837d-0a1ff90964c5, 678fe5e...  s42-branchburg   \n",
       "\n",
       "        ecs event.type                 fields  \\\n",
       "0  (8.0.0,)       info  (neutron, production)   \n",
       "\n",
       "                                         host   input  \\\n",
       "0  (computedpdkcl-1.vim4-7.bbg-1.vzwops.com,)  (log,)   \n",
       "\n",
       "                                                 log  \\\n",
       "0  ((/var/log/containers/neutron/openvswitch-agen...   \n",
       "\n",
       "                                          log.logger  \\\n",
       "0  neutron.plugins.ml2.drivers.openvswitch.agent....   \n",
       "\n",
       "                                             message process.pid      tags  \\\n",
       "0  [req-f9fe7deb-2d8c-4799-b362-eb1b86ed8c65 - - ...       10547  [server]   \n",
       "\n",
       "                 timestamp  \n",
       "0  2025-02-27 08:13:18.136  "
      ]
     },
     "execution_count": 6,
     "metadata": {},
     "output_type": "execute_result"
    }
   ],
   "source": [
    "df.limit(6).toPandas()"
   ]
  },
  {
   "cell_type": "code",
   "execution_count": 7,
   "id": "9d4d3cf7-facc-457d-86a8-cab4b966bcde",
   "metadata": {},
   "outputs": [
    {
     "data": {
      "text/plain": [
       "Row(@timestamp='2025-02-27T08:13:18.897Z', @version='1', agent=Row(ephemeral_id='659873d3-3c20-4f2c-837d-0a1ff90964c5', id='678fe5e2-7e69-4c93-bb69-c577f80d6f51', name='computedpdkcl-1.vim4-7.bbg-1.vzwops.com', type='filebeat', version='8.11.3'), datacenter='s42-branchburg', ecs=Row(version='8.0.0'), event.type='info', fields=Row(log_type='neutron', node_status='production'), host=Row(name='computedpdkcl-1.vim4-7.bbg-1.vzwops.com'), input=Row(type='log'), log=Row(file=Row(path='/var/log/containers/neutron/openvswitch-agent.log'), level='info', offset=7216250), log.logger='neutron.plugins.ml2.drivers.openvswitch.agent.ovs_neutron_agent', message=\"[req-f9fe7deb-2d8c-4799-b362-eb1b86ed8c65 - - - - -] Agent rpc_loop - iteration:345687 completed. Processed ports statistics: {'regular': {'added': 0, 'updated': 0, 'removed': 0}}. Elapsed:0.002\", process.pid='10547', tags=['server'], timestamp='2025-02-27 08:13:18.136')"
      ]
     },
     "execution_count": 7,
     "metadata": {},
     "output_type": "execute_result"
    }
   ],
   "source": [
    "df.head()"
   ]
  },
  {
   "cell_type": "code",
   "execution_count": 8,
   "id": "071927a1-3062-4637-80c4-93445fa04ab1",
   "metadata": {},
   "outputs": [
    {
     "data": {
      "text/html": [
       "<div>\n",
       "<style scoped>\n",
       "    .dataframe tbody tr th:only-of-type {\n",
       "        vertical-align: middle;\n",
       "    }\n",
       "\n",
       "    .dataframe tbody tr th {\n",
       "        vertical-align: top;\n",
       "    }\n",
       "\n",
       "    .dataframe thead th {\n",
       "        text-align: right;\n",
       "    }\n",
       "</style>\n",
       "<table border=\"1\" class=\"dataframe\">\n",
       "  <thead>\n",
       "    <tr style=\"text-align: right;\">\n",
       "      <th></th>\n",
       "      <th>@timestamp</th>\n",
       "      <th>@version</th>\n",
       "      <th>agent</th>\n",
       "      <th>datacenter</th>\n",
       "      <th>ecs</th>\n",
       "      <th>event.type</th>\n",
       "      <th>fields</th>\n",
       "      <th>host</th>\n",
       "      <th>input</th>\n",
       "      <th>log</th>\n",
       "      <th>log.logger</th>\n",
       "      <th>message</th>\n",
       "      <th>process.pid</th>\n",
       "      <th>tags</th>\n",
       "      <th>timestamp</th>\n",
       "    </tr>\n",
       "  </thead>\n",
       "  <tbody>\n",
       "    <tr>\n",
       "      <th>0</th>\n",
       "      <td>2025-02-27T08:13:18.897Z</td>\n",
       "      <td>1</td>\n",
       "      <td>(659873d3-3c20-4f2c-837d-0a1ff90964c5, 678fe5e...</td>\n",
       "      <td>s42-branchburg</td>\n",
       "      <td>(8.0.0,)</td>\n",
       "      <td>info</td>\n",
       "      <td>(neutron, production)</td>\n",
       "      <td>(computedpdkcl-1.vim4-7.bbg-1.vzwops.com,)</td>\n",
       "      <td>(log,)</td>\n",
       "      <td>((/var/log/containers/neutron/openvswitch-agen...</td>\n",
       "      <td>neutron.plugins.ml2.drivers.openvswitch.agent....</td>\n",
       "      <td>[req-f9fe7deb-2d8c-4799-b362-eb1b86ed8c65 - - ...</td>\n",
       "      <td>10547</td>\n",
       "      <td>[server]</td>\n",
       "      <td>2025-02-27 08:13:18.136</td>\n",
       "    </tr>\n",
       "  </tbody>\n",
       "</table>\n",
       "</div>"
      ],
      "text/plain": [
       "                 @timestamp @version  \\\n",
       "0  2025-02-27T08:13:18.897Z        1   \n",
       "\n",
       "                                               agent      datacenter  \\\n",
       "0  (659873d3-3c20-4f2c-837d-0a1ff90964c5, 678fe5e...  s42-branchburg   \n",
       "\n",
       "        ecs event.type                 fields  \\\n",
       "0  (8.0.0,)       info  (neutron, production)   \n",
       "\n",
       "                                         host   input  \\\n",
       "0  (computedpdkcl-1.vim4-7.bbg-1.vzwops.com,)  (log,)   \n",
       "\n",
       "                                                 log  \\\n",
       "0  ((/var/log/containers/neutron/openvswitch-agen...   \n",
       "\n",
       "                                          log.logger  \\\n",
       "0  neutron.plugins.ml2.drivers.openvswitch.agent....   \n",
       "\n",
       "                                             message process.pid      tags  \\\n",
       "0  [req-f9fe7deb-2d8c-4799-b362-eb1b86ed8c65 - - ...       10547  [server]   \n",
       "\n",
       "                 timestamp  \n",
       "0  2025-02-27 08:13:18.136  "
      ]
     },
     "execution_count": 8,
     "metadata": {},
     "output_type": "execute_result"
    }
   ],
   "source": [
    "df.toPandas().head(6)"
   ]
  },
  {
   "cell_type": "code",
   "execution_count": 9,
   "id": "1996303f-1e37-43dd-a80a-5fa36879c7dc",
   "metadata": {},
   "outputs": [
    {
     "name": "stdout",
     "output_type": "stream",
     "text": [
      "root\n",
      " |-- @timestamp: string (nullable = true)\n",
      " |-- @version: string (nullable = true)\n",
      " |-- agent: struct (nullable = true)\n",
      " |    |-- ephemeral_id: string (nullable = true)\n",
      " |    |-- id: string (nullable = true)\n",
      " |    |-- name: string (nullable = true)\n",
      " |    |-- type: string (nullable = true)\n",
      " |    |-- version: string (nullable = true)\n",
      " |-- datacenter: string (nullable = true)\n",
      " |-- ecs: struct (nullable = true)\n",
      " |    |-- version: string (nullable = true)\n",
      " |-- event.type: string (nullable = true)\n",
      " |-- fields: struct (nullable = true)\n",
      " |    |-- log_type: string (nullable = true)\n",
      " |    |-- node_status: string (nullable = true)\n",
      " |-- host: struct (nullable = true)\n",
      " |    |-- name: string (nullable = true)\n",
      " |-- input: struct (nullable = true)\n",
      " |    |-- type: string (nullable = true)\n",
      " |-- log: struct (nullable = true)\n",
      " |    |-- file: struct (nullable = true)\n",
      " |    |    |-- path: string (nullable = true)\n",
      " |    |-- level: string (nullable = true)\n",
      " |    |-- offset: long (nullable = true)\n",
      " |-- log.logger: string (nullable = true)\n",
      " |-- message: string (nullable = true)\n",
      " |-- process.pid: string (nullable = true)\n",
      " |-- tags: array (nullable = true)\n",
      " |    |-- element: string (containsNull = true)\n",
      " |-- timestamp: string (nullable = true)\n",
      "\n"
     ]
    }
   ],
   "source": [
    "df.printSchema()\n",
    "# df.show(truncate=False)"
   ]
  },
  {
   "cell_type": "code",
   "execution_count": 10,
   "id": "b8a31e9d-ee24-4a54-b6e9-7f8af193cdb3",
   "metadata": {},
   "outputs": [],
   "source": [
    "df_flattened = df.selectExpr(\n",
    "    \"`@timestamp`\",\n",
    "    \"`@version` as version\",\n",
    "    \"agent.ephemeral_id as agent_ephemeral_id\",\n",
    "    \"agent.id as agent_id\",\n",
    "    \"agent.name as agent_name\",\n",
    "    \"agent.type as agent_type\",\n",
    "    \"agent.version as agent_version\",\n",
    "    \"datacenter\",\n",
    "    \"ecs.version as ecs_version\",\n",
    "    \"`event.type` as event_type\",\n",
    "    \"fields.log_type as fields_log_type\",\n",
    "    \"fields.node_status as fields_node_status\",\n",
    "    \"host.name as host_name\",\n",
    "    \"input.type as input_type\",\n",
    "    \"log.file.path as log_file_path\",\n",
    "    \"log.level as log_level\",\n",
    "    \"log.offset as log_offset\",\n",
    "    \"`log.logger` as log_logger\",\n",
    "    \"message\",\n",
    "    \"`process.pid` as process_pid\",\n",
    "    \"tags\",\n",
    "    \"timestamp\"\n",
    ")"
   ]
  },
  {
   "cell_type": "code",
   "execution_count": 11,
   "id": "a03d139e-8832-4386-b097-51a99cbd5600",
   "metadata": {},
   "outputs": [
    {
     "name": "stdout",
     "output_type": "stream",
     "text": [
      "root\n",
      " |-- @timestamp: string (nullable = true)\n",
      " |-- version: string (nullable = true)\n",
      " |-- agent_ephemeral_id: string (nullable = true)\n",
      " |-- agent_id: string (nullable = true)\n",
      " |-- agent_name: string (nullable = true)\n",
      " |-- agent_type: string (nullable = true)\n",
      " |-- agent_version: string (nullable = true)\n",
      " |-- datacenter: string (nullable = true)\n",
      " |-- ecs_version: string (nullable = true)\n",
      " |-- event_type: string (nullable = true)\n",
      " |-- fields_log_type: string (nullable = true)\n",
      " |-- fields_node_status: string (nullable = true)\n",
      " |-- host_name: string (nullable = true)\n",
      " |-- input_type: string (nullable = true)\n",
      " |-- log_file_path: string (nullable = true)\n",
      " |-- log_level: string (nullable = true)\n",
      " |-- log_offset: long (nullable = true)\n",
      " |-- log_logger: string (nullable = true)\n",
      " |-- message: string (nullable = true)\n",
      " |-- process_pid: string (nullable = true)\n",
      " |-- tags: array (nullable = true)\n",
      " |    |-- element: string (containsNull = true)\n",
      " |-- timestamp: string (nullable = true)\n",
      "\n"
     ]
    }
   ],
   "source": [
    "df_flattened.printSchema()"
   ]
  },
  {
   "cell_type": "markdown",
   "id": "83889361-136e-432d-b44f-a584ee99de29",
   "metadata": {},
   "source": [
    "### Trying as text file"
   ]
  },
  {
   "cell_type": "code",
   "execution_count": 18,
   "id": "6154842a-b34f-43a1-8763-58606124b1c5",
   "metadata": {},
   "outputs": [
    {
     "name": "stdout",
     "output_type": "stream",
     "text": [
      "+---------------------------------------------------------------------------------------------------------------------------------------------------------------------------------------------------------------------------------------------------------------------------------------------------------------------------------------------------------------------------------------------------------------------------------------------------------------------------------------------------------------------------------------------------------------------------------------------------------------------------------------------------------------------------------------------------------------------------------------------------------------------------------------------------------------------------------------------------------------------------------------------------------------------------------------------------------------------------------------------------------------------------------------------------------------------------------+\n",
      "|value                                                                                                                                                                                                                                                                                                                                                                                                                                                                                                                                                                                                                                                                                                                                                                                                                                                                                                                                                                                                                                                                            |\n",
      "+---------------------------------------------------------------------------------------------------------------------------------------------------------------------------------------------------------------------------------------------------------------------------------------------------------------------------------------------------------------------------------------------------------------------------------------------------------------------------------------------------------------------------------------------------------------------------------------------------------------------------------------------------------------------------------------------------------------------------------------------------------------------------------------------------------------------------------------------------------------------------------------------------------------------------------------------------------------------------------------------------------------------------------------------------------------------------------+\n",
      "|{\"message\":\"[req-f9fe7deb-2d8c-4799-b362-eb1b86ed8c65 - - - - -] Agent rpc_loop - iteration:345687 completed. Processed ports statistics: {'regular': {'added': 0, 'updated': 0, 'removed': 0}}. Elapsed:0.002\",\"process.pid\":\"10547\",\"input\":{\"type\":\"log\"},\"event.type\":\"info\",\"@version\":\"1\",\"fields\":{\"node_status\":\"production\",\"log_type\":\"neutron\"},\"host\":{\"name\":\"computedpdkcl-1.vim4-7.bbg-1.vzwops.com\"},\"log\":{\"file\":{\"path\":\"/var/log/containers/neutron/openvswitch-agent.log\"},\"offset\":7216250,\"level\":\"info\"},\"datacenter\":\"s42-branchburg\",\"ecs\":{\"version\":\"8.0.0\"},\"timestamp\":\"2025-02-27 08:13:18.136\",\"log.logger\":\"neutron.plugins.ml2.drivers.openvswitch.agent.ovs_neutron_agent\",\"agent\":{\"id\":\"678fe5e2-7e69-4c93-bb69-c577f80d6f51\",\"name\":\"computedpdkcl-1.vim4-7.bbg-1.vzwops.com\",\"version\":\"8.11.3\",\"ephemeral_id\":\"659873d3-3c20-4f2c-837d-0a1ff90964c5\",\"type\":\"filebeat\"},\"tags\":[\"server\"],\"@timestamp\":\"2025-02-27T08:13:18.897Z\"}                                                                                                       |\n",
      "|{\"message\":\"[req-631648e4-29ff-432e-b987-7e2b388fe06f d842faf675d54d6ba9177abbd4f80b0f 4ef6c5444bc145b18e7cc76bfb7d46c4 - - -] 172.16.8.10 \\\"GET /v2.0/ports.json?device_id=23e60e0c-e104-4895-bdbb-879763edf1d3 HTTP/1.1\\\" status: 200  len: 1484 time: 0.0299270\",\"process.pid\":\"10294\",\"input\":{\"type\":\"log\"},\"event.type\":\"info\",\"@version\":\"1\",\"fields\":{\"node_status\":\"production\",\"log_type\":\"neutron\"},\"host\":{\"name\":\"undercloud.admin.s19-branchburg.vcp.vzwops.com\"},\"log\":{\"file\":{\"path\":\"/var/log/neutron/server.log\"},\"offset\":19278348,\"level\":\"info\"},\"datacenter\":\"s19-branchburg\",\"ecs\":{\"version\":\"1.8.0\"},\"timestamp\":\"2025-02-27 08:13:20.477\",\"log.logger\":\"neutron.wsgi\",\"tags\":[\"server\"],\"agent\":{\"version\":\"7.12.1\",\"type\":\"filebeat\",\"id\":\"24a34313-82e5-490a-9c13-7a640ad79c12\",\"name\":\"undercloud.admin.s19-branchburg.vcp.vzwops.com\",\"ephemeral_id\":\"4a5dd2fd-6bef-4354-8d7e-444798e5da5d\",\"hostname\":\"undercloud.admin.s19-branchburg.vcp.vzwops.com\"},\"@timestamp\":\"2025-02-27T08:13:20.984Z\"}                                                 |\n",
      "|{\"message\":\"[req-3332c2bd-119e-49c5-9aaf-7ad8e3ce91f4 - - - - -] Agent rpc_loop - iteration:24453775 completed. Processed ports statistics: {'regular': {'added': 0, 'updated': 0, 'removed': 0}}. Elapsed:0.002\",\"process.pid\":\"9483\",\"input\":{\"type\":\"log\"},\"event.type\":\"info\",\"@version\":\"1\",\"fields\":{\"node_status\":\"production\",\"log_type\":\"neutron\"},\"host\":{\"name\":\"computedpdkcl-12.vim3-7.bbg-1.vzwops.com\"},\"log\":{\"file\":{\"path\":\"/var/log/containers/neutron/openvswitch-agent.log\"},\"offset\":7227695,\"level\":\"info\"},\"datacenter\":\"s36-branchburg\",\"ecs\":{\"version\":\"8.0.0\"},\"timestamp\":\"2025-02-27 08:13:18.616\",\"log.logger\":\"neutron.plugins.ml2.drivers.openvswitch.agent.ovs_neutron_agent\",\"tags\":[\"server\"],\"agent\":{\"id\":\"b75dcc5e-3e50-4fb6-8bd2-d03560a06a1d\",\"version\":\"8.11.3\",\"name\":\"computedpdkcl-12.vim3-7.bbg-1.vzwops.com\",\"ephemeral_id\":\"1d7ac153-8f5f-4ff2-b49b-7e0d0a4a705a\",\"type\":\"filebeat\"},\"@timestamp\":\"2025-02-27T08:13:19.011Z\"}                                                                                                    |\n",
      "|{\"agent\":{\"id\":\"8e38ea37-9c80-4ec5-bbbb-bf73423e1247\",\"version\":\"8.11.3\",\"name\":\"computecl-10.vim4-1.bbg-1.vzwops.com\",\"ephemeral_id\":\"447d68b3-32cc-4f5e-8a0e-3502fa082858\",\"type\":\"filebeat\"},\"process.pid\":\"14035\",\"input\":{\"type\":\"log\"},\"event.type\":\"info\",\"@version\":\"1\",\"fields\":{\"node_status\":\"production\",\"log_type\":\"neutron\"},\"host\":{\"name\":\"computecl-10.vim4-1.bbg-1.vzwops.com\"},\"log\":{\"file\":{\"path\":\"/var/log/containers/neutron/openvswitch-agent.log\"},\"offset\":7234360,\"level\":\"info\"},\"datacenter\":\"s55-branchburg\",\"ecs\":{\"version\":\"8.0.0\"},\"timestamp\":\"2025-02-27 08:13:20.094\",\"log.logger\":\"neutron.plugins.ml2.drivers.openvswitch.agent.ovs_neutron_agent\",\"tags\":[\"server\"],\"@timestamp\":\"2025-02-27T08:13:22.075Z\",\"message\":\"[req-57de46ea-b946-485f-bcdf-8917e5c11a0a - - - - -] Agent rpc_loop - iteration:9664475 started\"}                                                                                                                                                                                                                |\n",
      "|{\"message\":\"[req-fe6e2cdf-af99-4429-8236-e7aa9b862171 - - - - -] Agent rpc_loop - iteration:10618074 started\",\"process.pid\":\"12792\",\"input\":{\"type\":\"log\"},\"event.type\":\"info\",\"@version\":\"1\",\"fields\":{\"node_status\":\"production\",\"log_type\":\"neutron\"},\"host\":{\"name\":\"computecl-36.vim2-6.bbg-1.vzwops.com\"},\"log\":{\"file\":{\"path\":\"/var/log/containers/neutron/openvswitch-agent.log\"},\"offset\":7260936,\"level\":\"info\"},\"datacenter\":\"s29-branchburg\",\"ecs\":{\"version\":\"8.0.0\"},\"timestamp\":\"2025-02-27 08:13:20.198\",\"log.logger\":\"neutron.plugins.ml2.drivers.openvswitch.agent.ovs_neutron_agent\",\"tags\":[\"server\"],\"agent\":{\"id\":\"88c3dce8-3ac8-428b-9ba3-011ee7349176\",\"name\":\"computecl-36.vim2-6.bbg-1.vzwops.com\",\"version\":\"8.11.3\",\"ephemeral_id\":\"0a3b96fb-4712-4951-9339-822d89f74962\",\"type\":\"filebeat\"},\"@timestamp\":\"2025-02-27T08:13:22.149Z\"}                                                                                                                                                                                                               |\n",
      "|{\"message\":\"[req-34133dbb-cfb7-4c05-ac05-286212129b8c - - - - -] Agent rpc_loop - iteration:24490855 started\",\"process.pid\":\"9687\",\"input\":{\"type\":\"log\"},\"event.type\":\"info\",\"@version\":\"1\",\"fields\":{\"node_status\":\"production\",\"log_type\":\"neutron\"},\"host\":{\"name\":\"computedpdkcl-3.vim5-7.bbg-1.vzwops.com\"},\"log\":{\"file\":{\"path\":\"/var/log/containers/neutron/openvswitch-agent.log\"},\"offset\":7229460,\"level\":\"info\"},\"datacenter\":\"s46-branchburg\",\"ecs\":{\"version\":\"8.0.0\"},\"timestamp\":\"2025-02-27 08:13:21.967\",\"log.logger\":\"neutron.plugins.ml2.drivers.openvswitch.agent.ovs_neutron_agent\",\"tags\":[\"server\"],\"agent\":{\"id\":\"aa514df7-bb08-4fca-a844-5cae7e900c0d\",\"version\":\"8.11.3\",\"name\":\"computedpdkcl-3.vim5-7.bbg-1.vzwops.com\",\"ephemeral_id\":\"f295a60e-9767-4726-8807-45f7d4892b14\",\"type\":\"filebeat\"},\"@timestamp\":\"2025-02-27T08:13:22.220Z\"}                                                                                                                                                                                                          |\n",
      "|{\"agent\":{\"id\":\"80bd799e-fb31-4f0d-914a-d4b43393beeb\",\"name\":\"computecl-32.vim3-7.bbg-1.vzwops.com\",\"version\":\"8.11.3\",\"ephemeral_id\":\"1b370323-88ad-4e0c-ada4-45ef7d9ca728\",\"type\":\"filebeat\"},\"process.pid\":\"325468\",\"input\":{\"type\":\"log\"},\"event.type\":\"info\",\"@version\":\"1\",\"fields\":{\"node_status\":\"production\",\"log_type\":\"neutron\"},\"host\":{\"name\":\"computecl-32.vim3-7.bbg-1.vzwops.com\"},\"log\":{\"file\":{\"path\":\"/var/log/containers/neutron/openvswitch-agent.log\"},\"offset\":7299344,\"level\":\"info\"},\"datacenter\":\"s36-branchburg\",\"ecs\":{\"version\":\"8.0.0\"},\"timestamp\":\"2025-02-27 08:13:22.198\",\"log.logger\":\"neutron.plugins.ml2.drivers.openvswitch.agent.ovs_neutron_agent\",\"tags\":[\"server\"],\"@timestamp\":\"2025-02-27T08:13:22.246Z\",\"message\":\"[req-3100ce35-c6c8-48b0-87e1-5a09e9408a82 - - - - -] Agent rpc_loop - iteration:24457713 started\"}                                                                                                                                                                                                              |\n",
      "|{\"message\":\"[req-293ebfb8-6e7c-4fc2-943d-46ab40672b4e fb4fad13d50b4a9584f80102cfe24ccc 320a42c117554aa8a9acf0f7ca0136ed - default default] 2607:f160:ff02:f1a1:a0::10c,2607:f160:ff02:f1a1:a0::106 \\\"GET /v2.0/subnets?id=55ed0b0e-4ea2-4e94-89e4-acbc34308ea8 HTTP/1.1\\\" status: 200  len: 991 time: 0.0368519\",\"process.pid\":\"22\",\"input\":{\"type\":\"log\"},\"event.type\":\"info\",\"@version\":\"1\",\"fields\":{\"node_status\":\"production\",\"log_type\":\"neutron\"},\"host\":{\"name\":\"controller-1.vim8-1.bbg-1.vzwops.com\"},\"log\":{\"file\":{\"path\":\"/var/log/containers/neutron/server.log\"},\"offset\":1534696,\"level\":\"info\"},\"datacenter\":\"s47-branchburg\",\"ecs\":{\"version\":\"8.0.0\"},\"timestamp\":\"2025-02-27 08:13:21.328\",\"log.logger\":\"neutron.wsgi\",\"tags\":[\"server\"],\"agent\":{\"id\":\"a96e276d-ab60-403c-a158-345dd8aa1d5c\",\"version\":\"8.11.3\",\"name\":\"controller-1.vim8-1.bbg-1.vzwops.com\",\"ephemeral_id\":\"afdb4357-f4aa-4d1b-9006-c361212906f8\",\"type\":\"filebeat\"},\"@timestamp\":\"2025-02-27T08:13:22.250Z\"}                                                                             |\n",
      "|{\"message\":\"[req-f22c9970-0a4c-4c86-9583-1344c566cf4a - - - - -] Agent rpc_loop - iteration:10876224 completed. Processed ports statistics: {'regular': {'added': 0, 'updated': 0, 'removed': 0}}. Elapsed:0.001\",\"process.pid\":\"14953\",\"input\":{\"type\":\"log\"},\"event.type\":\"info\",\"@version\":\"1\",\"fields\":{\"node_status\":\"production\",\"log_type\":\"neutron\"},\"host\":{\"name\":\"computecl-13.vim3-1.bbg-1.vzwops.com\"},\"log\":{\"file\":{\"path\":\"/var/log/containers/neutron/openvswitch-agent.log\"},\"offset\":7275400,\"level\":\"info\"},\"datacenter\":\"s31-branchburg\",\"ecs\":{\"version\":\"8.0.0\"},\"timestamp\":\"2025-02-27 08:13:18.956\",\"log.logger\":\"neutron.plugins.ml2.drivers.openvswitch.agent.ovs_neutron_agent\",\"tags\":[\"server\"],\"agent\":{\"id\":\"521eefae-1fce-4469-aeb2-d510277d16b3\",\"name\":\"computecl-13.vim3-1.bbg-1.vzwops.com\",\"version\":\"8.11.3\",\"ephemeral_id\":\"35785577-9992-43e6-886b-8a73ee44e65a\",\"type\":\"filebeat\"},\"@timestamp\":\"2025-02-27T08:13:19.273Z\"}                                                                                                           |\n",
      "|{\"message\":\"[req-8e534e08-e086-4443-a451-d746a4c175f0 1d993a41fbf940d086ea186b30a4f408 b766debb3c404bf6a8cd90e6af8b96c0 - default default] 2607:f160:ff02:f108:a0::138,2607:f160:ff02:f108:a0::110 \\\"GET /v2.0/ports?network_id=ecd56e67-baad-442c-9b75-c21071dfdcea&device_owner=network%3Adhcp HTTP/1.1\\\" status: 200  len: 186 time: 0.0213768\",\"process.pid\":\"23\",\"input\":{\"type\":\"log\"},\"event.type\":\"info\",\"@version\":\"1\",\"fields\":{\"node_status\":\"production\",\"log_type\":\"neutron\"},\"host\":{\"name\":\"controller-0.vim2-5.bbg-1.vzwops.com\"},\"log\":{\"file\":{\"path\":\"/var/log/containers/neutron/server.log\"},\"offset\":2914316,\"level\":\"info\"},\"datacenter\":\"s28-branchburg\",\"ecs\":{\"version\":\"8.0.0\"},\"timestamp\":\"2025-02-27 08:13:21.885\",\"log.logger\":\"neutron.wsgi\",\"tags\":[\"server\"],\"agent\":{\"id\":\"ddf36a2b-32e5-4cad-8c6b-f7e2c6aa4b0b\",\"name\":\"controller-0.vim2-5.bbg-1.vzwops.com\",\"version\":\"8.11.3\",\"ephemeral_id\":\"8c8a5b3c-2b9a-4b79-94bd-3f9177fe0e35\",\"type\":\"filebeat\"},\"@timestamp\":\"2025-02-27T08:13:22.280Z\"}                                           |\n",
      "|{\"message\":\"[req-79ee1f41-d814-4d25-8e53-57b53479e3f9 3c474ead6090416e800b4c90659938f1 ddfd44e4f5544094aeaf100c2bc96a3a - default default] 2607:f160:ff02:f140:a0::128,2607:f160:ff02:f140:a0::bf \\\"GET /v2.0/floatingips?fixed_ip_address=2607%3Af160%3A8a02%3Aa1cb%3Aa0%3A10b%3A0%3A70&port_id=0e3570ab-1477-4619-a2e3-f1e9f6765abe HTTP/1.1\\\" status: 200  len: 193 time: 0.0332155\",\"process.pid\":\"15\",\"input\":{\"type\":\"log\"},\"event.type\":\"info\",\"@version\":\"1\",\"fields\":{\"node_status\":\"production\",\"log_type\":\"neutron\"},\"host\":{\"name\":\"controller-1.vim3-6.bbg-1.vzwops.com\"},\"log\":{\"file\":{\"path\":\"/var/log/containers/neutron/server.log\"},\"offset\":2658005,\"level\":\"info\"},\"datacenter\":\"s35-branchburg\",\"ecs\":{\"version\":\"8.0.0\"},\"timestamp\":\"2025-02-27 08:13:22.043\",\"log.logger\":\"neutron.wsgi\",\"tags\":[\"server\"],\"agent\":{\"id\":\"a6683bc8-8929-4617-9b38-ebc438de19b0\",\"version\":\"8.11.3\",\"name\":\"controller-1.vim3-6.bbg-1.vzwops.com\",\"ephemeral_id\":\"ded2863f-de68-49b1-a0d8-47b2f0db8863\",\"type\":\"filebeat\"},\"@timestamp\":\"2025-02-27T08:13:22.328Z\"}      |\n",
      "|{\"message\":\"[req-9f61c52e-7b2b-444e-8b6f-677d2cff2c21 - - - - -] Agent rpc_loop - iteration:10876143 started\",\"process.pid\":\"9073\",\"input\":{\"type\":\"log\"},\"event.type\":\"info\",\"@version\":\"1\",\"fields\":{\"node_status\":\"production\",\"log_type\":\"neutron\"},\"host\":{\"name\":\"computedpdkcl-18.vim3-1.bbg-1.vzwops.com\"},\"log\":{\"file\":{\"path\":\"/var/log/containers/neutron/openvswitch-agent.log\"},\"offset\":7242690,\"level\":\"info\"},\"datacenter\":\"s31-branchburg\",\"ecs\":{\"version\":\"8.0.0\"},\"timestamp\":\"2025-02-27 08:13:21.980\",\"log.logger\":\"neutron.plugins.ml2.drivers.openvswitch.agent.ovs_neutron_agent\",\"tags\":[\"server\"],\"agent\":{\"id\":\"e4d2e2a6-a434-4e8d-9a9b-bb16cbb16658\",\"name\":\"computedpdkcl-18.vim3-1.bbg-1.vzwops.com\",\"version\":\"8.11.3\",\"ephemeral_id\":\"db97c067-0b64-4117-88b1-124378fdac02\",\"type\":\"filebeat\"},\"@timestamp\":\"2025-02-27T08:13:22.360Z\"}                                                                                                                                                                                                        |\n",
      "|{\"message\":\"[req-a66e6ac9-3892-45e4-972d-721761beb17e - - - - -] Agent rpc_loop - iteration:23939718 started\",\"process.pid\":\"12556\",\"input\":{\"type\":\"log\"},\"event.type\":\"info\",\"@version\":\"1\",\"fields\":{\"node_status\":\"production\",\"log_type\":\"neutron\"},\"host\":{\"name\":\"computecl-23.vim5-6.bbg-1.vzwops.com\"},\"log\":{\"file\":{\"path\":\"/var/log/containers/neutron/openvswitch-agent.log\"},\"offset\":7271760,\"level\":\"info\"},\"datacenter\":\"s45-branchburg\",\"ecs\":{\"version\":\"8.0.0\"},\"timestamp\":\"2025-02-27 08:13:21.596\",\"log.logger\":\"neutron.plugins.ml2.drivers.openvswitch.agent.ovs_neutron_agent\",\"agent\":{\"id\":\"f616ed6c-f8a2-43a2-9ca7-a3980fab6f06\",\"name\":\"computecl-23.vim5-6.bbg-1.vzwops.com\",\"version\":\"8.11.3\",\"ephemeral_id\":\"1ddd2972-bad5-47e5-a93b-2980d4aadc9e\",\"type\":\"filebeat\"},\"tags\":[\"server\"],\"@timestamp\":\"2025-02-27T08:13:22.405Z\"}                                                                                                                                                                                                               |\n",
      "|{\"message\":\"[req-3e05d0b6-1f9c-4073-a857-369ddf7b5606 - - - - -] Agent rpc_loop - iteration:24513989 completed. Processed ports statistics: {'regular': {'added': 0, 'updated': 0, 'removed': 0}}. Elapsed:0.004\",\"process.pid\":\"9553\",\"input\":{\"type\":\"log\"},\"event.type\":\"info\",\"@version\":\"1\",\"fields\":{\"node_status\":\"production\",\"log_type\":\"neutron\"},\"host\":{\"name\":\"computedpdkcl-5.vim8-1.bbg-1.vzwops.com\"},\"log\":{\"file\":{\"path\":\"/var/log/containers/neutron/openvswitch-agent.log\"},\"offset\":7243865,\"level\":\"info\"},\"datacenter\":\"s47-branchburg\",\"ecs\":{\"version\":\"8.0.0\"},\"timestamp\":\"2025-02-27 08:13:19.847\",\"log.logger\":\"neutron.plugins.ml2.drivers.openvswitch.agent.ovs_neutron_agent\",\"tags\":[\"server\"],\"agent\":{\"id\":\"2875721f-594c-42fd-8857-8329a6c3caad\",\"version\":\"8.11.3\",\"name\":\"computedpdkcl-5.vim8-1.bbg-1.vzwops.com\",\"ephemeral_id\":\"fb1f5ce2-74ed-48ba-981a-310dd3ed1442\",\"type\":\"filebeat\"},\"@timestamp\":\"2025-02-27T08:13:21.425Z\"}                                                                                                      |\n",
      "|{\"agent\":{\"id\":\"368dd2ba-8026-4813-82f5-e01db7bf3f0b\",\"name\":\"controller-0.vim5-1.bbg-1.vzwops.com\",\"version\":\"8.11.3\",\"ephemeral_id\":\"70e61f89-e26d-4ef0-95da-499935c1c9da\",\"type\":\"filebeat\"},\"process.pid\":\"15\",\"input\":{\"type\":\"log\"},\"event.type\":\"info\",\"@version\":\"1\",\"fields\":{\"node_status\":\"production\",\"log_type\":\"neutron\"},\"host\":{\"name\":\"controller-0.vim5-1.bbg-1.vzwops.com\"},\"log\":{\"file\":{\"path\":\"/var/log/containers/neutron/server.log\"},\"offset\":1493344,\"level\":\"info\"},\"datacenter\":\"s43-branchburg\",\"ecs\":{\"version\":\"8.0.0\"},\"timestamp\":\"2025-02-27 08:13:21.483\",\"log.logger\":\"neutron.wsgi\",\"tags\":[\"server\"],\"@timestamp\":\"2025-02-27T08:13:22.436Z\",\"message\":\"[-] 2607:f160:ff02:f17b:a0::181 \\\"OPTIONS / HTTP/1.0\\\" status: 200  len: 264 time: 0.0022969\"}                                                                                                                                                                                                                                                                                    |\n",
      "|{\"message\":\"[req-f6004290-15f7-41dd-9f0c-4c52fec79889 84d00071ecb84aa68dd5f9fcfc02e429 a70349ab12db456bb0154e37bdb1177c - - -] 172.16.64.70 \\\"GET /v2.0/floatingips.json?fixed_ip_address=169.254.101.23&port_id=df2546b0-c954-41ee-9441-7d81b8ec1892 HTTP/1.1\\\" status: 200  len: 193 time: 0.0133610\",\"process.pid\":\"611074\",\"input\":{\"type\":\"log\"},\"event.type\":\"info\",\"@version\":\"1\",\"fields\":{\"node_status\":\"production\",\"log_type\":\"neutron\"},\"host\":{\"name\":\"controller2.external.s14-branchburg.vcp.vzwops.com\"},\"log\":{\"file\":{\"path\":\"/var/log/neutron/server.log\"},\"offset\":14311417,\"level\":\"info\"},\"datacenter\":\"s14-branchburg\",\"ecs\":{\"version\":\"1.8.0\"},\"timestamp\":\"2025-02-27 08:13:17.285\",\"log.logger\":\"neutron.wsgi\",\"agent\":{\"version\":\"7.12.1\",\"type\":\"filebeat\",\"id\":\"3202a2a6-812b-4712-8ac4-3b9c220f2294\",\"name\":\"controller2.external.s14-branchburg.vcp.vzwops.com\",\"ephemeral_id\":\"ab0185fd-0877-49e3-89c1-097c3b008dc2\",\"hostname\":\"controller2.external.s14-branchburg.vcp.vzwops.com\"},\"tags\":[\"server\"],\"@timestamp\":\"2025-02-27T08:13:21.459Z\"}|\n",
      "|{\"message\":\"[req-1bfe83cc-11ca-494a-9912-e6d61d1438db - - - - -] Agent rpc_loop - iteration:23042767 completed. Processed ports statistics: {'regular': {'added': 0, 'updated': 0, 'removed': 0}}. Elapsed:0.001\",\"process.pid\":\"12512\",\"input\":{\"type\":\"log\"},\"event.type\":\"info\",\"@version\":\"1\",\"fields\":{\"node_status\":\"production\",\"log_type\":\"neutron\"},\"host\":{\"name\":\"computecl-88.vim3-2.bbg-1.vzwops.com\"},\"log\":{\"file\":{\"path\":\"/var/log/containers/neutron/openvswitch-agent.log\"},\"offset\":7262116,\"level\":\"info\"},\"datacenter\":\"s32-branchburg\",\"ecs\":{\"version\":\"8.0.0\"},\"timestamp\":\"2025-02-27 08:13:19.190\",\"log.logger\":\"neutron.plugins.ml2.drivers.openvswitch.agent.ovs_neutron_agent\",\"tags\":[\"server\"],\"agent\":{\"id\":\"667522c9-362c-43ae-9e3b-563741b3417f\",\"name\":\"computecl-88.vim3-2.bbg-1.vzwops.com\",\"version\":\"8.11.3\",\"ephemeral_id\":\"40888a1c-164c-4b00-8716-54b802000b8f\",\"type\":\"filebeat\"},\"@timestamp\":\"2025-02-27T08:13:19.480Z\"}                                                                                                           |\n",
      "|{\"message\":\"[req-78b6f78a-1473-4f13-8a16-e4b9a8cb44f3 e1e228fb99e24995ae9f6846b0fc937d 6a84c9972bb5477f8db51ef3a61d1a49 - - -] 172.16.64.63 \\\"GET /v2.0/ports.json?network_id=ce88f804-65f4-4dad-89d4-c503b42d852b&device_owner=network%3Adhcp HTTP/1.1\\\" status: 200  len: 187 time: 0.0320139\",\"process.pid\":\"7726\",\"input\":{\"type\":\"log\"},\"event.type\":\"info\",\"@version\":\"1\",\"fields\":{\"node_status\":\"production\",\"log_type\":\"neutron\"},\"host\":{\"name\":\"controller1.external.s2-newyork.vcp.vzwops.com\"},\"log\":{\"file\":{\"path\":\"/var/log/neutron/server.log\"},\"offset\":8266175,\"level\":\"info\"},\"datacenter\":\"s2-newyork\",\"ecs\":{\"version\":\"1.8.0\"},\"timestamp\":\"2025-02-27 08:13:20.621\",\"log.logger\":\"neutron.wsgi\",\"tags\":[\"server\"],\"agent\":{\"version\":\"7.12.1\",\"type\":\"filebeat\",\"id\":\"f92c4858-c0c5-49ff-b9d2-9c97826d93c6\",\"name\":\"controller1.external.s2-newyork.vcp.vzwops.com\",\"ephemeral_id\":\"a99c513d-8a97-4dd5-8bf5-bf7ee02b724d\",\"hostname\":\"controller1.external.s2-newyork.vcp.vzwops.com\"},\"@timestamp\":\"2025-02-27T08:13:21.618Z\"}                          |\n",
      "|{\"message\":\"[req-97d5ef64-1c02-468d-b153-2fd66cafb113 1dfe08125b014901ba2bf296c96e8c23 c38d60a861e546e69a244f5094eafc9e - - -] 172.16.64.50 \\\"GET /v2.0/subnets.json?id=92548240-8c0a-4418-a94e-d06aafef0e26 HTTP/1.1\\\" status: 200  len: 861 time: 0.0721529\",\"process.pid\":\"7470\",\"input\":{\"type\":\"log\"},\"event.type\":\"info\",\"@version\":\"1\",\"fields\":{\"node_status\":\"production\",\"log_type\":\"neutron\"},\"host\":{\"name\":\"controller2.external.s16-branchburg.vcp.vzwops.com\"},\"log\":{\"file\":{\"path\":\"/var/log/neutron/server.log\"},\"offset\":28121289,\"level\":\"info\"},\"datacenter\":\"s16-branchburg\",\"ecs\":{\"version\":\"1.8.0\"},\"timestamp\":\"2025-02-27 08:13:20.823\",\"log.logger\":\"neutron.wsgi\",\"agent\":{\"version\":\"7.12.1\",\"type\":\"filebeat\",\"id\":\"8b266708-5ae1-4c07-9e0d-ce9bce06ef86\",\"name\":\"controller2.external.s16-branchburg.vcp.vzwops.com\",\"ephemeral_id\":\"30867beb-6565-4807-bbcb-a96b32c915ba\",\"hostname\":\"controller2.external.s16-branchburg.vcp.vzwops.com\"},\"tags\":[\"server\"],\"@timestamp\":\"2025-02-27T08:13:21.541Z\"}                                           |\n",
      "|{\"message\":\"[req-5da44bcf-9068-4aea-9c36-4ddac56a1525 0630a1491bcb45f7b5faadee4b6a4635 32be1f4baebb4756bb6799f8fbe503c6 - - -] 172.16.8.10 \\\"GET /v2.0/ports.json?fixed_ips=ip_address%3D172.16.9.14 HTTP/1.1\\\" status: 200  len: 1485 time: 0.0442240\",\"process.pid\":\"3577\",\"input\":{\"type\":\"log\"},\"event.type\":\"info\",\"@version\":\"1\",\"fields\":{\"node_status\":\"production\",\"log_type\":\"neutron\"},\"host\":{\"name\":\"undercloud.admin.s16-branchburg.vcp.vzwops.com\"},\"log\":{\"file\":{\"path\":\"/var/log/neutron/server.log\"},\"offset\":26375240,\"level\":\"info\"},\"datacenter\":\"s16-branchburg\",\"ecs\":{\"version\":\"1.8.0\"},\"timestamp\":\"2025-02-27 08:13:20.779\",\"log.logger\":\"neutron.wsgi\",\"tags\":[\"server\"],\"agent\":{\"version\":\"7.12.1\",\"type\":\"filebeat\",\"id\":\"2982db10-0f0b-4d3c-8481-42279c4f7ad5\",\"name\":\"undercloud.admin.s16-branchburg.vcp.vzwops.com\",\"ephemeral_id\":\"a71120ad-f0f1-4a23-809a-750480938b30\",\"hostname\":\"undercloud.admin.s16-branchburg.vcp.vzwops.com\"},\"@timestamp\":\"2025-02-27T08:13:21.606Z\"}                                                              |\n",
      "+---------------------------------------------------------------------------------------------------------------------------------------------------------------------------------------------------------------------------------------------------------------------------------------------------------------------------------------------------------------------------------------------------------------------------------------------------------------------------------------------------------------------------------------------------------------------------------------------------------------------------------------------------------------------------------------------------------------------------------------------------------------------------------------------------------------------------------------------------------------------------------------------------------------------------------------------------------------------------------------------------------------------------------------------------------------------------------+\n",
      "only showing top 20 rows\n",
      "\n"
     ]
    }
   ],
   "source": [
    "# Read file as plain text\n",
    "df_text = spark.read.text(\"../data/xaa\")\n",
    "\n",
    "df_text.show(truncate=False)"
   ]
  },
  {
   "cell_type": "code",
   "execution_count": 19,
   "id": "9b210489-cb5d-4e33-94c3-544cb79aa526",
   "metadata": {},
   "outputs": [],
   "source": [
    "\n",
    "schema = StructType([\n",
    "    StructField(\"@timestamp\", StringType(), True),\n",
    "    StructField(\"@version\", StringType(), True),\n",
    "    StructField(\"agent\", StructType([\n",
    "        StructField(\"ephemeral_id\", StringType(), True),\n",
    "        StructField(\"id\", StringType(), True),\n",
    "        StructField(\"name\", StringType(), True),\n",
    "        StructField(\"type\", StringType(), True),\n",
    "        StructField(\"version\", StringType(), True)\n",
    "    ]), True),\n",
    "    StructField(\"datacenter\", StringType(), True),\n",
    "    StructField(\"ecs\", StructType([\n",
    "        StructField(\"version\", StringType(), True)\n",
    "    ]), True),\n",
    "    StructField(\"event.type\", StringType(), True),\n",
    "    StructField(\"fields\", StructType([\n",
    "        StructField(\"log_type\", StringType(), True),\n",
    "        StructField(\"node_status\", StringType(), True)\n",
    "    ]), True),\n",
    "    StructField(\"host\", StructType([\n",
    "        StructField(\"name\", StringType(), True)\n",
    "    ]), True),\n",
    "    StructField(\"input\", StructType([\n",
    "        StructField(\"type\", StringType(), True)\n",
    "    ]), True),\n",
    "    StructField(\"log\", StructType([\n",
    "        StructField(\"file\", StructType([\n",
    "            StructField(\"path\", StringType(), True)\n",
    "        ]), True),\n",
    "        StructField(\"level\", StringType(), True),\n",
    "        StructField(\"offset\", StringType(), True)\n",
    "    ]), True),\n",
    "    StructField(\"log.logger\", StringType(), True),\n",
    "    StructField(\"message\", StringType(), True),\n",
    "    StructField(\"process.pid\", StringType(), True),\n",
    "    StructField(\"tags\", ArrayType(StringType()), True),\n",
    "    StructField(\"timestamp\", StringType(), True)\n",
    "])"
   ]
  },
  {
   "cell_type": "code",
   "execution_count": 20,
   "id": "7b52b0ca-fcb9-4c4f-883d-70a167e2151b",
   "metadata": {},
   "outputs": [
    {
     "name": "stdout",
     "output_type": "stream",
     "text": [
      "+------------------------+--------+--------------------------------------------------------------------------------------------------------------------------------------------------+--------------+-------+----------+---------------------+----------------------------------------------------+-----+--------------------------------------------------------------------+---------------------------------------------------------------+------------------------------------------------------------------------------------------------------------------------------------------------------------------------------------------------------------------------------------------------------------------------------------------------------------------------------------------------------------------------+-----------+--------+-----------------------+\n",
      "|@timestamp              |@version|agent                                                                                                                                             |datacenter    |ecs    |event.type|fields               |host                                                |input|log                                                                 |log.logger                                                     |message                                                                                                                                                                                                                                                                                                                                                                 |process.pid|tags    |timestamp              |\n",
      "+------------------------+--------+--------------------------------------------------------------------------------------------------------------------------------------------------+--------------+-------+----------+---------------------+----------------------------------------------------+-----+--------------------------------------------------------------------+---------------------------------------------------------------+------------------------------------------------------------------------------------------------------------------------------------------------------------------------------------------------------------------------------------------------------------------------------------------------------------------------------------------------------------------------+-----------+--------+-----------------------+\n",
      "|2025-02-27T08:13:18.897Z|1       |{659873d3-3c20-4f2c-837d-0a1ff90964c5, 678fe5e2-7e69-4c93-bb69-c577f80d6f51, computedpdkcl-1.vim4-7.bbg-1.vzwops.com, filebeat, 8.11.3}           |s42-branchburg|{8.0.0}|info      |{neutron, production}|{computedpdkcl-1.vim4-7.bbg-1.vzwops.com}           |{log}|{{/var/log/containers/neutron/openvswitch-agent.log}, info, 7216250}|neutron.plugins.ml2.drivers.openvswitch.agent.ovs_neutron_agent|[req-f9fe7deb-2d8c-4799-b362-eb1b86ed8c65 - - - - -] Agent rpc_loop - iteration:345687 completed. Processed ports statistics: {'regular': {'added': 0, 'updated': 0, 'removed': 0}}. Elapsed:0.002                                                                                                                                                                      |10547      |[server]|2025-02-27 08:13:18.136|\n",
      "|2025-02-27T08:13:20.984Z|1       |{4a5dd2fd-6bef-4354-8d7e-444798e5da5d, 24a34313-82e5-490a-9c13-7a640ad79c12, undercloud.admin.s19-branchburg.vcp.vzwops.com, filebeat, 7.12.1}    |s19-branchburg|{1.8.0}|info      |{neutron, production}|{undercloud.admin.s19-branchburg.vcp.vzwops.com}    |{log}|{{/var/log/neutron/server.log}, info, 19278348}                     |neutron.wsgi                                                   |[req-631648e4-29ff-432e-b987-7e2b388fe06f d842faf675d54d6ba9177abbd4f80b0f 4ef6c5444bc145b18e7cc76bfb7d46c4 - - -] 172.16.8.10 \"GET /v2.0/ports.json?device_id=23e60e0c-e104-4895-bdbb-879763edf1d3 HTTP/1.1\" status: 200  len: 1484 time: 0.0299270                                                                                                                    |10294      |[server]|2025-02-27 08:13:20.477|\n",
      "|2025-02-27T08:13:19.011Z|1       |{1d7ac153-8f5f-4ff2-b49b-7e0d0a4a705a, b75dcc5e-3e50-4fb6-8bd2-d03560a06a1d, computedpdkcl-12.vim3-7.bbg-1.vzwops.com, filebeat, 8.11.3}          |s36-branchburg|{8.0.0}|info      |{neutron, production}|{computedpdkcl-12.vim3-7.bbg-1.vzwops.com}          |{log}|{{/var/log/containers/neutron/openvswitch-agent.log}, info, 7227695}|neutron.plugins.ml2.drivers.openvswitch.agent.ovs_neutron_agent|[req-3332c2bd-119e-49c5-9aaf-7ad8e3ce91f4 - - - - -] Agent rpc_loop - iteration:24453775 completed. Processed ports statistics: {'regular': {'added': 0, 'updated': 0, 'removed': 0}}. Elapsed:0.002                                                                                                                                                                    |9483       |[server]|2025-02-27 08:13:18.616|\n",
      "|2025-02-27T08:13:22.075Z|1       |{447d68b3-32cc-4f5e-8a0e-3502fa082858, 8e38ea37-9c80-4ec5-bbbb-bf73423e1247, computecl-10.vim4-1.bbg-1.vzwops.com, filebeat, 8.11.3}              |s55-branchburg|{8.0.0}|info      |{neutron, production}|{computecl-10.vim4-1.bbg-1.vzwops.com}              |{log}|{{/var/log/containers/neutron/openvswitch-agent.log}, info, 7234360}|neutron.plugins.ml2.drivers.openvswitch.agent.ovs_neutron_agent|[req-57de46ea-b946-485f-bcdf-8917e5c11a0a - - - - -] Agent rpc_loop - iteration:9664475 started                                                                                                                                                                                                                                                                         |14035      |[server]|2025-02-27 08:13:20.094|\n",
      "|2025-02-27T08:13:22.149Z|1       |{0a3b96fb-4712-4951-9339-822d89f74962, 88c3dce8-3ac8-428b-9ba3-011ee7349176, computecl-36.vim2-6.bbg-1.vzwops.com, filebeat, 8.11.3}              |s29-branchburg|{8.0.0}|info      |{neutron, production}|{computecl-36.vim2-6.bbg-1.vzwops.com}              |{log}|{{/var/log/containers/neutron/openvswitch-agent.log}, info, 7260936}|neutron.plugins.ml2.drivers.openvswitch.agent.ovs_neutron_agent|[req-fe6e2cdf-af99-4429-8236-e7aa9b862171 - - - - -] Agent rpc_loop - iteration:10618074 started                                                                                                                                                                                                                                                                        |12792      |[server]|2025-02-27 08:13:20.198|\n",
      "|2025-02-27T08:13:22.220Z|1       |{f295a60e-9767-4726-8807-45f7d4892b14, aa514df7-bb08-4fca-a844-5cae7e900c0d, computedpdkcl-3.vim5-7.bbg-1.vzwops.com, filebeat, 8.11.3}           |s46-branchburg|{8.0.0}|info      |{neutron, production}|{computedpdkcl-3.vim5-7.bbg-1.vzwops.com}           |{log}|{{/var/log/containers/neutron/openvswitch-agent.log}, info, 7229460}|neutron.plugins.ml2.drivers.openvswitch.agent.ovs_neutron_agent|[req-34133dbb-cfb7-4c05-ac05-286212129b8c - - - - -] Agent rpc_loop - iteration:24490855 started                                                                                                                                                                                                                                                                        |9687       |[server]|2025-02-27 08:13:21.967|\n",
      "|2025-02-27T08:13:22.246Z|1       |{1b370323-88ad-4e0c-ada4-45ef7d9ca728, 80bd799e-fb31-4f0d-914a-d4b43393beeb, computecl-32.vim3-7.bbg-1.vzwops.com, filebeat, 8.11.3}              |s36-branchburg|{8.0.0}|info      |{neutron, production}|{computecl-32.vim3-7.bbg-1.vzwops.com}              |{log}|{{/var/log/containers/neutron/openvswitch-agent.log}, info, 7299344}|neutron.plugins.ml2.drivers.openvswitch.agent.ovs_neutron_agent|[req-3100ce35-c6c8-48b0-87e1-5a09e9408a82 - - - - -] Agent rpc_loop - iteration:24457713 started                                                                                                                                                                                                                                                                        |325468     |[server]|2025-02-27 08:13:22.198|\n",
      "|2025-02-27T08:13:22.250Z|1       |{afdb4357-f4aa-4d1b-9006-c361212906f8, a96e276d-ab60-403c-a158-345dd8aa1d5c, controller-1.vim8-1.bbg-1.vzwops.com, filebeat, 8.11.3}              |s47-branchburg|{8.0.0}|info      |{neutron, production}|{controller-1.vim8-1.bbg-1.vzwops.com}              |{log}|{{/var/log/containers/neutron/server.log}, info, 1534696}           |neutron.wsgi                                                   |[req-293ebfb8-6e7c-4fc2-943d-46ab40672b4e fb4fad13d50b4a9584f80102cfe24ccc 320a42c117554aa8a9acf0f7ca0136ed - default default] 2607:f160:ff02:f1a1:a0::10c,2607:f160:ff02:f1a1:a0::106 \"GET /v2.0/subnets?id=55ed0b0e-4ea2-4e94-89e4-acbc34308ea8 HTTP/1.1\" status: 200  len: 991 time: 0.0368519                                                                       |22         |[server]|2025-02-27 08:13:21.328|\n",
      "|2025-02-27T08:13:19.273Z|1       |{35785577-9992-43e6-886b-8a73ee44e65a, 521eefae-1fce-4469-aeb2-d510277d16b3, computecl-13.vim3-1.bbg-1.vzwops.com, filebeat, 8.11.3}              |s31-branchburg|{8.0.0}|info      |{neutron, production}|{computecl-13.vim3-1.bbg-1.vzwops.com}              |{log}|{{/var/log/containers/neutron/openvswitch-agent.log}, info, 7275400}|neutron.plugins.ml2.drivers.openvswitch.agent.ovs_neutron_agent|[req-f22c9970-0a4c-4c86-9583-1344c566cf4a - - - - -] Agent rpc_loop - iteration:10876224 completed. Processed ports statistics: {'regular': {'added': 0, 'updated': 0, 'removed': 0}}. Elapsed:0.001                                                                                                                                                                    |14953      |[server]|2025-02-27 08:13:18.956|\n",
      "|2025-02-27T08:13:22.280Z|1       |{8c8a5b3c-2b9a-4b79-94bd-3f9177fe0e35, ddf36a2b-32e5-4cad-8c6b-f7e2c6aa4b0b, controller-0.vim2-5.bbg-1.vzwops.com, filebeat, 8.11.3}              |s28-branchburg|{8.0.0}|info      |{neutron, production}|{controller-0.vim2-5.bbg-1.vzwops.com}              |{log}|{{/var/log/containers/neutron/server.log}, info, 2914316}           |neutron.wsgi                                                   |[req-8e534e08-e086-4443-a451-d746a4c175f0 1d993a41fbf940d086ea186b30a4f408 b766debb3c404bf6a8cd90e6af8b96c0 - default default] 2607:f160:ff02:f108:a0::138,2607:f160:ff02:f108:a0::110 \"GET /v2.0/ports?network_id=ecd56e67-baad-442c-9b75-c21071dfdcea&device_owner=network%3Adhcp HTTP/1.1\" status: 200  len: 186 time: 0.0213768                                     |23         |[server]|2025-02-27 08:13:21.885|\n",
      "|2025-02-27T08:13:22.328Z|1       |{ded2863f-de68-49b1-a0d8-47b2f0db8863, a6683bc8-8929-4617-9b38-ebc438de19b0, controller-1.vim3-6.bbg-1.vzwops.com, filebeat, 8.11.3}              |s35-branchburg|{8.0.0}|info      |{neutron, production}|{controller-1.vim3-6.bbg-1.vzwops.com}              |{log}|{{/var/log/containers/neutron/server.log}, info, 2658005}           |neutron.wsgi                                                   |[req-79ee1f41-d814-4d25-8e53-57b53479e3f9 3c474ead6090416e800b4c90659938f1 ddfd44e4f5544094aeaf100c2bc96a3a - default default] 2607:f160:ff02:f140:a0::128,2607:f160:ff02:f140:a0::bf \"GET /v2.0/floatingips?fixed_ip_address=2607%3Af160%3A8a02%3Aa1cb%3Aa0%3A10b%3A0%3A70&port_id=0e3570ab-1477-4619-a2e3-f1e9f6765abe HTTP/1.1\" status: 200  len: 193 time: 0.0332155|15         |[server]|2025-02-27 08:13:22.043|\n",
      "|2025-02-27T08:13:22.360Z|1       |{db97c067-0b64-4117-88b1-124378fdac02, e4d2e2a6-a434-4e8d-9a9b-bb16cbb16658, computedpdkcl-18.vim3-1.bbg-1.vzwops.com, filebeat, 8.11.3}          |s31-branchburg|{8.0.0}|info      |{neutron, production}|{computedpdkcl-18.vim3-1.bbg-1.vzwops.com}          |{log}|{{/var/log/containers/neutron/openvswitch-agent.log}, info, 7242690}|neutron.plugins.ml2.drivers.openvswitch.agent.ovs_neutron_agent|[req-9f61c52e-7b2b-444e-8b6f-677d2cff2c21 - - - - -] Agent rpc_loop - iteration:10876143 started                                                                                                                                                                                                                                                                        |9073       |[server]|2025-02-27 08:13:21.980|\n",
      "|2025-02-27T08:13:22.405Z|1       |{1ddd2972-bad5-47e5-a93b-2980d4aadc9e, f616ed6c-f8a2-43a2-9ca7-a3980fab6f06, computecl-23.vim5-6.bbg-1.vzwops.com, filebeat, 8.11.3}              |s45-branchburg|{8.0.0}|info      |{neutron, production}|{computecl-23.vim5-6.bbg-1.vzwops.com}              |{log}|{{/var/log/containers/neutron/openvswitch-agent.log}, info, 7271760}|neutron.plugins.ml2.drivers.openvswitch.agent.ovs_neutron_agent|[req-a66e6ac9-3892-45e4-972d-721761beb17e - - - - -] Agent rpc_loop - iteration:23939718 started                                                                                                                                                                                                                                                                        |12556      |[server]|2025-02-27 08:13:21.596|\n",
      "|2025-02-27T08:13:21.425Z|1       |{fb1f5ce2-74ed-48ba-981a-310dd3ed1442, 2875721f-594c-42fd-8857-8329a6c3caad, computedpdkcl-5.vim8-1.bbg-1.vzwops.com, filebeat, 8.11.3}           |s47-branchburg|{8.0.0}|info      |{neutron, production}|{computedpdkcl-5.vim8-1.bbg-1.vzwops.com}           |{log}|{{/var/log/containers/neutron/openvswitch-agent.log}, info, 7243865}|neutron.plugins.ml2.drivers.openvswitch.agent.ovs_neutron_agent|[req-3e05d0b6-1f9c-4073-a857-369ddf7b5606 - - - - -] Agent rpc_loop - iteration:24513989 completed. Processed ports statistics: {'regular': {'added': 0, 'updated': 0, 'removed': 0}}. Elapsed:0.004                                                                                                                                                                    |9553       |[server]|2025-02-27 08:13:19.847|\n",
      "|2025-02-27T08:13:22.436Z|1       |{70e61f89-e26d-4ef0-95da-499935c1c9da, 368dd2ba-8026-4813-82f5-e01db7bf3f0b, controller-0.vim5-1.bbg-1.vzwops.com, filebeat, 8.11.3}              |s43-branchburg|{8.0.0}|info      |{neutron, production}|{controller-0.vim5-1.bbg-1.vzwops.com}              |{log}|{{/var/log/containers/neutron/server.log}, info, 1493344}           |neutron.wsgi                                                   |[-] 2607:f160:ff02:f17b:a0::181 \"OPTIONS / HTTP/1.0\" status: 200  len: 264 time: 0.0022969                                                                                                                                                                                                                                                                              |15         |[server]|2025-02-27 08:13:21.483|\n",
      "|2025-02-27T08:13:21.459Z|1       |{ab0185fd-0877-49e3-89c1-097c3b008dc2, 3202a2a6-812b-4712-8ac4-3b9c220f2294, controller2.external.s14-branchburg.vcp.vzwops.com, filebeat, 7.12.1}|s14-branchburg|{1.8.0}|info      |{neutron, production}|{controller2.external.s14-branchburg.vcp.vzwops.com}|{log}|{{/var/log/neutron/server.log}, info, 14311417}                     |neutron.wsgi                                                   |[req-f6004290-15f7-41dd-9f0c-4c52fec79889 84d00071ecb84aa68dd5f9fcfc02e429 a70349ab12db456bb0154e37bdb1177c - - -] 172.16.64.70 \"GET /v2.0/floatingips.json?fixed_ip_address=169.254.101.23&port_id=df2546b0-c954-41ee-9441-7d81b8ec1892 HTTP/1.1\" status: 200  len: 193 time: 0.0133610                                                                                |611074     |[server]|2025-02-27 08:13:17.285|\n",
      "|2025-02-27T08:13:19.480Z|1       |{40888a1c-164c-4b00-8716-54b802000b8f, 667522c9-362c-43ae-9e3b-563741b3417f, computecl-88.vim3-2.bbg-1.vzwops.com, filebeat, 8.11.3}              |s32-branchburg|{8.0.0}|info      |{neutron, production}|{computecl-88.vim3-2.bbg-1.vzwops.com}              |{log}|{{/var/log/containers/neutron/openvswitch-agent.log}, info, 7262116}|neutron.plugins.ml2.drivers.openvswitch.agent.ovs_neutron_agent|[req-1bfe83cc-11ca-494a-9912-e6d61d1438db - - - - -] Agent rpc_loop - iteration:23042767 completed. Processed ports statistics: {'regular': {'added': 0, 'updated': 0, 'removed': 0}}. Elapsed:0.001                                                                                                                                                                    |12512      |[server]|2025-02-27 08:13:19.190|\n",
      "|2025-02-27T08:13:21.618Z|1       |{a99c513d-8a97-4dd5-8bf5-bf7ee02b724d, f92c4858-c0c5-49ff-b9d2-9c97826d93c6, controller1.external.s2-newyork.vcp.vzwops.com, filebeat, 7.12.1}    |s2-newyork    |{1.8.0}|info      |{neutron, production}|{controller1.external.s2-newyork.vcp.vzwops.com}    |{log}|{{/var/log/neutron/server.log}, info, 8266175}                      |neutron.wsgi                                                   |[req-78b6f78a-1473-4f13-8a16-e4b9a8cb44f3 e1e228fb99e24995ae9f6846b0fc937d 6a84c9972bb5477f8db51ef3a61d1a49 - - -] 172.16.64.63 \"GET /v2.0/ports.json?network_id=ce88f804-65f4-4dad-89d4-c503b42d852b&device_owner=network%3Adhcp HTTP/1.1\" status: 200  len: 187 time: 0.0320139                                                                                       |7726       |[server]|2025-02-27 08:13:20.621|\n",
      "|2025-02-27T08:13:21.541Z|1       |{30867beb-6565-4807-bbcb-a96b32c915ba, 8b266708-5ae1-4c07-9e0d-ce9bce06ef86, controller2.external.s16-branchburg.vcp.vzwops.com, filebeat, 7.12.1}|s16-branchburg|{1.8.0}|info      |{neutron, production}|{controller2.external.s16-branchburg.vcp.vzwops.com}|{log}|{{/var/log/neutron/server.log}, info, 28121289}                     |neutron.wsgi                                                   |[req-97d5ef64-1c02-468d-b153-2fd66cafb113 1dfe08125b014901ba2bf296c96e8c23 c38d60a861e546e69a244f5094eafc9e - - -] 172.16.64.50 \"GET /v2.0/subnets.json?id=92548240-8c0a-4418-a94e-d06aafef0e26 HTTP/1.1\" status: 200  len: 861 time: 0.0721529                                                                                                                         |7470       |[server]|2025-02-27 08:13:20.823|\n",
      "|2025-02-27T08:13:21.606Z|1       |{a71120ad-f0f1-4a23-809a-750480938b30, 2982db10-0f0b-4d3c-8481-42279c4f7ad5, undercloud.admin.s16-branchburg.vcp.vzwops.com, filebeat, 7.12.1}    |s16-branchburg|{1.8.0}|info      |{neutron, production}|{undercloud.admin.s16-branchburg.vcp.vzwops.com}    |{log}|{{/var/log/neutron/server.log}, info, 26375240}                     |neutron.wsgi                                                   |[req-5da44bcf-9068-4aea-9c36-4ddac56a1525 0630a1491bcb45f7b5faadee4b6a4635 32be1f4baebb4756bb6799f8fbe503c6 - - -] 172.16.8.10 \"GET /v2.0/ports.json?fixed_ips=ip_address%3D172.16.9.14 HTTP/1.1\" status: 200  len: 1485 time: 0.0442240                                                                                                                                |3577       |[server]|2025-02-27 08:13:20.779|\n",
      "+------------------------+--------+--------------------------------------------------------------------------------------------------------------------------------------------------+--------------+-------+----------+---------------------+----------------------------------------------------+-----+--------------------------------------------------------------------+---------------------------------------------------------------+------------------------------------------------------------------------------------------------------------------------------------------------------------------------------------------------------------------------------------------------------------------------------------------------------------------------------------------------------------------------+-----------+--------+-----------------------+\n",
      "only showing top 20 rows\n",
      "\n",
      "root\n",
      " |-- @timestamp: string (nullable = true)\n",
      " |-- @version: string (nullable = true)\n",
      " |-- agent: struct (nullable = true)\n",
      " |    |-- ephemeral_id: string (nullable = true)\n",
      " |    |-- id: string (nullable = true)\n",
      " |    |-- name: string (nullable = true)\n",
      " |    |-- type: string (nullable = true)\n",
      " |    |-- version: string (nullable = true)\n",
      " |-- datacenter: string (nullable = true)\n",
      " |-- ecs: struct (nullable = true)\n",
      " |    |-- version: string (nullable = true)\n",
      " |-- event.type: string (nullable = true)\n",
      " |-- fields: struct (nullable = true)\n",
      " |    |-- log_type: string (nullable = true)\n",
      " |    |-- node_status: string (nullable = true)\n",
      " |-- host: struct (nullable = true)\n",
      " |    |-- name: string (nullable = true)\n",
      " |-- input: struct (nullable = true)\n",
      " |    |-- type: string (nullable = true)\n",
      " |-- log: struct (nullable = true)\n",
      " |    |-- file: struct (nullable = true)\n",
      " |    |    |-- path: string (nullable = true)\n",
      " |    |-- level: string (nullable = true)\n",
      " |    |-- offset: string (nullable = true)\n",
      " |-- log.logger: string (nullable = true)\n",
      " |-- message: string (nullable = true)\n",
      " |-- process.pid: string (nullable = true)\n",
      " |-- tags: array (nullable = true)\n",
      " |    |-- element: string (containsNull = true)\n",
      " |-- timestamp: string (nullable = true)\n",
      "\n"
     ]
    }
   ],
   "source": [
    "df_parsed = df_text.withColumn(\"json_data\", from_json(col(\"value\"), schema)).select(\"json_data.*\")\n",
    "\n",
    "df_parsed.show(truncate=False)\n",
    "df_parsed.printSchema()"
   ]
  },
  {
   "cell_type": "code",
   "execution_count": 21,
   "id": "0d3e53e4-a5d8-4942-9ebd-a6caea1875c2",
   "metadata": {},
   "outputs": [],
   "source": [
    "df_flattened = df_parsed.selectExpr(\n",
    "    \"`@timestamp`\",\n",
    "    \"`@version` as version\",\n",
    "    \"agent.ephemeral_id as agent_ephemeral_id\",\n",
    "    \"agent.id as agent_id\",\n",
    "    \"agent.name as agent_name\",\n",
    "    \"agent.type as agent_type\",\n",
    "    \"agent.version as agent_version\",\n",
    "    \"datacenter\",\n",
    "    \"ecs.version as ecs_version\",\n",
    "    \"`event.type` as event_type\",\n",
    "    \"fields.log_type as fields_log_type\",\n",
    "    \"fields.node_status as fields_node_status\",\n",
    "    \"host.name as host_name\",\n",
    "    \"input.type as input_type\",\n",
    "    \"log.file.path as log_file_path\",\n",
    "    \"log.level as log_level\",\n",
    "    \"log.offset as log_offset\",\n",
    "    \"`log.logger` as log_logger\",\n",
    "    \"message\",\n",
    "    \"`process.pid` as process_pid\",\n",
    "    \"tags\",\n",
    "    \"timestamp\"\n",
    ")"
   ]
  },
  {
   "cell_type": "code",
   "execution_count": 22,
   "id": "e1c31dde-305c-4c4a-b94b-1ad47cf7366a",
   "metadata": {},
   "outputs": [
    {
     "name": "stdout",
     "output_type": "stream",
     "text": [
      "root\n",
      " |-- @timestamp: string (nullable = true)\n",
      " |-- version: string (nullable = true)\n",
      " |-- agent_ephemeral_id: string (nullable = true)\n",
      " |-- agent_id: string (nullable = true)\n",
      " |-- agent_name: string (nullable = true)\n",
      " |-- agent_type: string (nullable = true)\n",
      " |-- agent_version: string (nullable = true)\n",
      " |-- datacenter: string (nullable = true)\n",
      " |-- ecs_version: string (nullable = true)\n",
      " |-- event_type: string (nullable = true)\n",
      " |-- fields_log_type: string (nullable = true)\n",
      " |-- fields_node_status: string (nullable = true)\n",
      " |-- host_name: string (nullable = true)\n",
      " |-- input_type: string (nullable = true)\n",
      " |-- log_file_path: string (nullable = true)\n",
      " |-- log_level: string (nullable = true)\n",
      " |-- log_offset: string (nullable = true)\n",
      " |-- log_logger: string (nullable = true)\n",
      " |-- message: string (nullable = true)\n",
      " |-- process_pid: string (nullable = true)\n",
      " |-- tags: array (nullable = true)\n",
      " |    |-- element: string (containsNull = true)\n",
      " |-- timestamp: string (nullable = true)\n",
      "\n"
     ]
    }
   ],
   "source": [
    "df_flattened.printSchema()"
   ]
  },
  {
   "cell_type": "code",
   "execution_count": 24,
   "id": "e7d903f8-7a02-4f3a-86a6-ab369fb5e0bd",
   "metadata": {},
   "outputs": [
    {
     "name": "stdout",
     "output_type": "stream",
     "text": [
      "+--------+\n",
      "|    tags|\n",
      "+--------+\n",
      "|[server]|\n",
      "|[server]|\n",
      "|[server]|\n",
      "|[server]|\n",
      "|[server]|\n",
      "|[server]|\n",
      "|[server]|\n",
      "|[server]|\n",
      "|[server]|\n",
      "|[server]|\n",
      "+--------+\n",
      "\n"
     ]
    }
   ],
   "source": [
    "df_flattened.select(col(\"tags\")).limit(10).show()"
   ]
  },
  {
   "cell_type": "code",
   "execution_count": 25,
   "id": "541ed5bf-8220-406a-a687-9c55345389fe",
   "metadata": {},
   "outputs": [],
   "source": [
    "df_flattened.createOrReplaceTempView(\"serverdb\")"
   ]
  },
  {
   "cell_type": "code",
   "execution_count": 26,
   "id": "701bbd0d-ea3c-43a0-8a6e-c170a409e0be",
   "metadata": {},
   "outputs": [
    {
     "name": "stderr",
     "output_type": "stream",
     "text": [
      "[Stage 11:=====================================================>(169 + 3) / 172]"
     ]
    },
    {
     "name": "stdout",
     "output_type": "stream",
     "text": [
      "+----------+\n",
      "|total_rows|\n",
      "+----------+\n",
      "|  22268352|\n",
      "+----------+\n",
      "\n"
     ]
    },
    {
     "name": "stderr",
     "output_type": "stream",
     "text": [
      "                                                                                "
     ]
    }
   ],
   "source": [
    "count = spark.sql(\"SELECT COUNT(*) as total_rows FROM serverdb\")\n",
    "count.show()"
   ]
  },
  {
   "cell_type": "code",
   "execution_count": 29,
   "id": "5155b1ed-d9ad-4669-9ec3-2a25ff3729d8",
   "metadata": {},
   "outputs": [
    {
     "name": "stderr",
     "output_type": "stream",
     "text": [
      "[Stage 17:====================================================> (168 + 4) / 172]"
     ]
    },
    {
     "name": "stdout",
     "output_type": "stream",
     "text": [
      "+---------------------------+\n",
      "|T                          |\n",
      "+---------------------------+\n",
      "|[server]                   |\n",
      "|[server, _grokparsefailure]|\n",
      "|[udp]                      |\n",
      "|[udp, _grokparsefailure]   |\n",
      "+---------------------------+\n",
      "\n"
     ]
    },
    {
     "name": "stderr",
     "output_type": "stream",
     "text": [
      "                                                                                "
     ]
    }
   ],
   "source": [
    "tags = spark.sql(\"SELECT distinct tags as T FROM serverdb\")\n",
    "tags.show(truncate=False)"
   ]
  },
  {
   "cell_type": "code",
   "execution_count": 34,
   "id": "6162228e-c72d-45f3-83db-1bd2f6c7f06e",
   "metadata": {},
   "outputs": [
    {
     "name": "stderr",
     "output_type": "stream",
     "text": [
      "[Stage 26:=====================================================>(169 + 3) / 172]"
     ]
    },
    {
     "name": "stdout",
     "output_type": "stream",
     "text": [
      "+-----+\n",
      "|T    |\n",
      "+-----+\n",
      "|8.0.0|\n",
      "|1.8.0|\n",
      "|NULL |\n",
      "+-----+\n",
      "\n"
     ]
    },
    {
     "name": "stderr",
     "output_type": "stream",
     "text": [
      "                                                                                "
     ]
    }
   ],
   "source": [
    "ecs_version = spark.sql(\"SELECT distinct ecs_version as T FROM serverdb\")\n",
    "ecs_version.show(truncate=False)"
   ]
  },
  {
   "cell_type": "code",
   "execution_count": 35,
   "id": "12503379-1915-4854-91a4-cff1867cbbb3",
   "metadata": {},
   "outputs": [
    {
     "name": "stderr",
     "output_type": "stream",
     "text": [
      "[Stage 29:=====================================================>(170 + 2) / 172]"
     ]
    },
    {
     "name": "stdout",
     "output_type": "stream",
     "text": [
      "+---+\n",
      "|T  |\n",
      "+---+\n",
      "|1  |\n",
      "+---+\n",
      "\n"
     ]
    },
    {
     "name": "stderr",
     "output_type": "stream",
     "text": [
      "                                                                                "
     ]
    }
   ],
   "source": [
    "version = spark.sql(\"SELECT distinct version as T FROM serverdb\")\n",
    "version.show(truncate=False)"
   ]
  },
  {
   "cell_type": "code",
   "execution_count": null,
   "id": "775ced8e-b718-4c27-be68-eca1de6f1f8e",
   "metadata": {},
   "outputs": [
    {
     "name": "stderr",
     "output_type": "stream",
     "text": [
      "[Stage 38:=====================>                                 (68 + 4) / 172]"
     ]
    }
   ],
   "source": [
    "datacenter = spark.sql(\"SELECT count(datacenter) as T FROM serverdb\")\n",
    "datacenter.show()"
   ]
  },
  {
   "cell_type": "code",
   "execution_count": null,
   "id": "a44fc35e-ff17-48d7-b223-acc8014eec95",
   "metadata": {},
   "outputs": [],
   "source": []
  }
 ],
 "metadata": {
  "kernelspec": {
   "display_name": "Python 3 (ipykernel)",
   "language": "python",
   "name": "python3"
  },
  "language_info": {
   "codemirror_mode": {
    "name": "ipython",
    "version": 3
   },
   "file_extension": ".py",
   "mimetype": "text/x-python",
   "name": "python",
   "nbconvert_exporter": "python",
   "pygments_lexer": "ipython3",
   "version": "3.10.14"
  }
 },
 "nbformat": 4,
 "nbformat_minor": 5
}
